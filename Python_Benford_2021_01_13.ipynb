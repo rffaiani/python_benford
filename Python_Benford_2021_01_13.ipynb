{
  "nbformat": 4,
  "nbformat_minor": 0,
  "metadata": {
    "colab": {
      "name": "Python_Benford_2021.01.13.ipynb",
      "provenance": [],
      "collapsed_sections": [],
      "authorship_tag": "ABX9TyOWXGojDje09lcjC8AI0oiC"
    },
    "kernelspec": {
      "display_name": "Python 3",
      "name": "python3"
    }
  },
  "cells": [
    {
      "cell_type": "markdown",
      "metadata": {
        "id": "aUOExHIsro7f"
      },
      "source": [
        "Detectando Fraudes em bases de dados\r\n",
        "(em Python): Modelo Benford"
      ]
    },
    {
      "cell_type": "code",
      "metadata": {
        "id": "j8M_JcDHrprF"
      },
      "source": [
        "#dontpad.com/python_benford\r\n",
        "# usar modelo Benford\r\n",
        "#!python --version"
      ],
      "execution_count": null,
      "outputs": []
    },
    {
      "cell_type": "code",
      "metadata": {
        "colab": {
          "background_save": true
        },
        "id": "UrQlT1ch9AIM"
      },
      "source": [
        "from google.colab import files\n",
        "\n",
        "uploaded = files.upload()\n",
        "\n",
        "for fn in uploaded.keys():\n",
        "  print('User uploaded file \"{name}\" with length {length} bytes'.format(\n",
        "      name=fn, length=len(uploaded[fn])))"
      ],
      "execution_count": null,
      "outputs": []
    },
    {
      "cell_type": "code",
      "metadata": {
        "id": "f1bTeGCM9Er7"
      },
      "source": [
        "caminho_aluguel = \"/content/sample_data/alugueis_br.csv\"\r\n",
        "caminh_covid = \"/content/sample_data/covid_mundo.csv\"\r\n",
        "caminho_ec1 = \"/content/sample_data/ecommerce_1.csv\"\r\n",
        "caminho_ec2 = \"/content/sample_data/ecommerce_2.csv\"\r\n",
        "caminho_livro = \"/content/sample_data/livros.csv\"\r\n",
        "caminho_youtube = \"/content/sample_data/youtube.csv\"\r\n"
      ],
      "execution_count": null,
      "outputs": []
    },
    {
      "cell_type": "code",
      "metadata": {
        "id": "qve9UE-aGj7g"
      },
      "source": [
        "import pandas as pd"
      ],
      "execution_count": null,
      "outputs": []
    },
    {
      "cell_type": "code",
      "metadata": {
        "colab": {
          "base_uri": "https://localhost:8080/",
          "height": 111
        },
        "id": "t7zY6dFbG6vI",
        "outputId": "52823a2d-297a-46cd-e268-55443ae707fc"
      },
      "source": [
        "df_youtube = pd.read_csv(caminho_youtube)\r\n",
        "df_youtube[10:12]"
      ],
      "execution_count": null,
      "outputs": [
        {
          "output_type": "execute_result",
          "data": {
            "text/html": [
              "<div>\n",
              "<style scoped>\n",
              "    .dataframe tbody tr th:only-of-type {\n",
              "        vertical-align: middle;\n",
              "    }\n",
              "\n",
              "    .dataframe tbody tr th {\n",
              "        vertical-align: top;\n",
              "    }\n",
              "\n",
              "    .dataframe thead th {\n",
              "        text-align: right;\n",
              "    }\n",
              "</style>\n",
              "<table border=\"1\" class=\"dataframe\">\n",
              "  <thead>\n",
              "    <tr style=\"text-align: right;\">\n",
              "      <th></th>\n",
              "      <th>title</th>\n",
              "      <th>views</th>\n",
              "      <th>likes</th>\n",
              "      <th>dislikes</th>\n",
              "      <th>comment_count</th>\n",
              "    </tr>\n",
              "  </thead>\n",
              "  <tbody>\n",
              "    <tr>\n",
              "      <th>10</th>\n",
              "      <td>Dion Lewis' 103-Yd Kick Return TD vs. Denver! ...</td>\n",
              "      <td>81377.0</td>\n",
              "      <td>655.0</td>\n",
              "      <td>25.0</td>\n",
              "      <td>177.0</td>\n",
              "    </tr>\n",
              "    <tr>\n",
              "      <th>11</th>\n",
              "      <td>(SPOILERS) 'Shiva Saves the Day' Talked About ...</td>\n",
              "      <td>104578.0</td>\n",
              "      <td>1576.0</td>\n",
              "      <td>303.0</td>\n",
              "      <td>1279.0</td>\n",
              "    </tr>\n",
              "  </tbody>\n",
              "</table>\n",
              "</div>"
            ],
            "text/plain": [
              "                                                title  ...  comment_count\n",
              "10  Dion Lewis' 103-Yd Kick Return TD vs. Denver! ...  ...          177.0\n",
              "11  (SPOILERS) 'Shiva Saves the Day' Talked About ...  ...         1279.0\n",
              "\n",
              "[2 rows x 5 columns]"
            ]
          },
          "metadata": {
            "tags": []
          },
          "execution_count": 8
        }
      ]
    },
    {
      "cell_type": "code",
      "metadata": {
        "colab": {
          "base_uri": "https://localhost:8080/",
          "height": 204
        },
        "id": "q53ApIztHOUD",
        "outputId": "a0d1ba2b-5ebb-48a1-b4dc-a795bceafb41"
      },
      "source": [
        "df_ec1 = pd.read_csv(caminho_ec1)\r\n",
        "df_ec1.tail()"
      ],
      "execution_count": null,
      "outputs": [
        {
          "output_type": "execute_result",
          "data": {
            "text/html": [
              "<div>\n",
              "<style scoped>\n",
              "    .dataframe tbody tr th:only-of-type {\n",
              "        vertical-align: middle;\n",
              "    }\n",
              "\n",
              "    .dataframe tbody tr th {\n",
              "        vertical-align: top;\n",
              "    }\n",
              "\n",
              "    .dataframe thead th {\n",
              "        text-align: right;\n",
              "    }\n",
              "</style>\n",
              "<table border=\"1\" class=\"dataframe\">\n",
              "  <thead>\n",
              "    <tr style=\"text-align: right;\">\n",
              "      <th></th>\n",
              "      <th>payment_type</th>\n",
              "      <th>payment_installments</th>\n",
              "      <th>payment_value</th>\n",
              "    </tr>\n",
              "  </thead>\n",
              "  <tbody>\n",
              "    <tr>\n",
              "      <th>103881</th>\n",
              "      <td>boleto</td>\n",
              "      <td>1</td>\n",
              "      <td>363.31</td>\n",
              "    </tr>\n",
              "    <tr>\n",
              "      <th>103882</th>\n",
              "      <td>credit_card</td>\n",
              "      <td>2</td>\n",
              "      <td>96.80</td>\n",
              "    </tr>\n",
              "    <tr>\n",
              "      <th>103883</th>\n",
              "      <td>credit_card</td>\n",
              "      <td>1</td>\n",
              "      <td>47.77</td>\n",
              "    </tr>\n",
              "    <tr>\n",
              "      <th>103884</th>\n",
              "      <td>credit_card</td>\n",
              "      <td>5</td>\n",
              "      <td>369.54</td>\n",
              "    </tr>\n",
              "    <tr>\n",
              "      <th>103885</th>\n",
              "      <td>boleto</td>\n",
              "      <td>1</td>\n",
              "      <td>191.58</td>\n",
              "    </tr>\n",
              "  </tbody>\n",
              "</table>\n",
              "</div>"
            ],
            "text/plain": [
              "       payment_type  payment_installments  payment_value\n",
              "103881       boleto                     1         363.31\n",
              "103882  credit_card                     2          96.80\n",
              "103883  credit_card                     1          47.77\n",
              "103884  credit_card                     5         369.54\n",
              "103885       boleto                     1         191.58"
            ]
          },
          "metadata": {
            "tags": []
          },
          "execution_count": 9
        }
      ]
    },
    {
      "cell_type": "code",
      "metadata": {
        "colab": {
          "base_uri": "https://localhost:8080/",
          "height": 131
        },
        "id": "mEtj_eGhH2rC",
        "outputId": "45b2e775-2528-429f-fb5e-37d43b824d08"
      },
      "source": [
        "df_ec2 = pd.read_csv(caminho_ec2)\r\n",
        "df_ec2.head(2)"
      ],
      "execution_count": null,
      "outputs": [
        {
          "output_type": "execute_result",
          "data": {
            "text/html": [
              "<div>\n",
              "<style scoped>\n",
              "    .dataframe tbody tr th:only-of-type {\n",
              "        vertical-align: middle;\n",
              "    }\n",
              "\n",
              "    .dataframe tbody tr th {\n",
              "        vertical-align: top;\n",
              "    }\n",
              "\n",
              "    .dataframe thead th {\n",
              "        text-align: right;\n",
              "    }\n",
              "</style>\n",
              "<table border=\"1\" class=\"dataframe\">\n",
              "  <thead>\n",
              "    <tr style=\"text-align: right;\">\n",
              "      <th></th>\n",
              "      <th>product_category_name</th>\n",
              "      <th>product_name_lenght</th>\n",
              "      <th>product_description_lenght</th>\n",
              "      <th>product_photos_qty</th>\n",
              "      <th>product_weight_g</th>\n",
              "      <th>product_length_cm</th>\n",
              "      <th>product_height_cm</th>\n",
              "      <th>product_width_cm</th>\n",
              "    </tr>\n",
              "  </thead>\n",
              "  <tbody>\n",
              "    <tr>\n",
              "      <th>0</th>\n",
              "      <td>perfumaria</td>\n",
              "      <td>40.0</td>\n",
              "      <td>287.0</td>\n",
              "      <td>1.0</td>\n",
              "      <td>225.0</td>\n",
              "      <td>16.0</td>\n",
              "      <td>10.0</td>\n",
              "      <td>14.0</td>\n",
              "    </tr>\n",
              "    <tr>\n",
              "      <th>1</th>\n",
              "      <td>artes</td>\n",
              "      <td>44.0</td>\n",
              "      <td>276.0</td>\n",
              "      <td>1.0</td>\n",
              "      <td>1000.0</td>\n",
              "      <td>30.0</td>\n",
              "      <td>18.0</td>\n",
              "      <td>20.0</td>\n",
              "    </tr>\n",
              "  </tbody>\n",
              "</table>\n",
              "</div>"
            ],
            "text/plain": [
              "  product_category_name  ...  product_width_cm\n",
              "0            perfumaria  ...              14.0\n",
              "1                 artes  ...              20.0\n",
              "\n",
              "[2 rows x 8 columns]"
            ]
          },
          "metadata": {
            "tags": []
          },
          "execution_count": 10
        }
      ]
    },
    {
      "cell_type": "code",
      "metadata": {
        "id": "hvpyki-RHdv7"
      },
      "source": [
        "#3. Análise Exploratória de Dados\r\n",
        "#Descrição de dados estatísticos\r\n",
        "#Filtrar as tabelas pelas colunas\r\n",
        "#Aplicar um comando na coluna\r\n",
        "#Visualização de Gráficos"
      ],
      "execution_count": null,
      "outputs": []
    },
    {
      "cell_type": "code",
      "metadata": {
        "colab": {
          "base_uri": "https://localhost:8080/"
        },
        "id": "4zpDKyDiIVkW",
        "outputId": "2e769a6d-1218-484c-f923-68045b329c87"
      },
      "source": [
        "#shape = formato\r\n",
        "df_aluguel = pd.read_csv(caminho_aluguel)\r\n",
        "df_aluguel.shape\r\n"
      ],
      "execution_count": null,
      "outputs": [
        {
          "output_type": "execute_result",
          "data": {
            "text/plain": [
              "(6080, 10)"
            ]
          },
          "metadata": {
            "tags": []
          },
          "execution_count": 12
        }
      ]
    },
    {
      "cell_type": "code",
      "metadata": {
        "colab": {
          "base_uri": "https://localhost:8080/"
        },
        "id": "C0FDB3KXJDoq",
        "outputId": "4fd21a79-b64e-40ec-a6e8-0430422e64dd"
      },
      "source": [
        "print(str(df_aluguel.shape[0]) + \"Linhas na base de dados\")"
      ],
      "execution_count": null,
      "outputs": [
        {
          "output_type": "stream",
          "text": [
            "6080Linhas na base de dados\n"
          ],
          "name": "stdout"
        }
      ]
    },
    {
      "cell_type": "code",
      "metadata": {
        "colab": {
          "base_uri": "https://localhost:8080/"
        },
        "id": "xo29Ekr5Ja20",
        "outputId": "03920929-6875-4a1b-9c05-eabc01c14a47"
      },
      "source": [
        "#shape te dá o tamanho de linhas e colunas da base de dados\r\n",
        "print(str(df_ec1.shape[1]) + \" Colunas na base de dados\")"
      ],
      "execution_count": null,
      "outputs": [
        {
          "output_type": "stream",
          "text": [
            "3 Colunas na base de dados\n"
          ],
          "name": "stdout"
        }
      ]
    },
    {
      "cell_type": "code",
      "metadata": {
        "colab": {
          "base_uri": "https://localhost:8080/"
        },
        "id": "vxYIasLUJwzg",
        "outputId": "1b1bc3be-3ed1-4485-c21c-428a39159d4a"
      },
      "source": [
        "df_ec2.columns"
      ],
      "execution_count": null,
      "outputs": [
        {
          "output_type": "execute_result",
          "data": {
            "text/plain": [
              "Index(['product_category_name', 'product_name_lenght',\n",
              "       'product_description_lenght', 'product_photos_qty', 'product_weight_g',\n",
              "       'product_length_cm', 'product_height_cm', 'product_width_cm'],\n",
              "      dtype='object')"
            ]
          },
          "metadata": {
            "tags": []
          },
          "execution_count": 17
        }
      ]
    },
    {
      "cell_type": "code",
      "metadata": {
        "colab": {
          "base_uri": "https://localhost:8080/",
          "height": 111
        },
        "id": "mvFtNPa5J96i",
        "outputId": "b1844524-c93b-421b-8c93-61ebf80cc784"
      },
      "source": [
        "df_livro = pd.read_csv(caminho_livro)\r\n",
        "df_livro.head(2)"
      ],
      "execution_count": null,
      "outputs": [
        {
          "output_type": "execute_result",
          "data": {
            "text/html": [
              "<div>\n",
              "<style scoped>\n",
              "    .dataframe tbody tr th:only-of-type {\n",
              "        vertical-align: middle;\n",
              "    }\n",
              "\n",
              "    .dataframe tbody tr th {\n",
              "        vertical-align: top;\n",
              "    }\n",
              "\n",
              "    .dataframe thead th {\n",
              "        text-align: right;\n",
              "    }\n",
              "</style>\n",
              "<table border=\"1\" class=\"dataframe\">\n",
              "  <thead>\n",
              "    <tr style=\"text-align: right;\">\n",
              "      <th></th>\n",
              "      <th>Reviews</th>\n",
              "      <th>Book_title</th>\n",
              "      <th>Number_Of_Pages</th>\n",
              "      <th>Price</th>\n",
              "    </tr>\n",
              "  </thead>\n",
              "  <tbody>\n",
              "    <tr>\n",
              "      <th>0</th>\n",
              "      <td>3829</td>\n",
              "      <td>The Elements of Style</td>\n",
              "      <td>105</td>\n",
              "      <td>9.323529</td>\n",
              "    </tr>\n",
              "    <tr>\n",
              "      <th>1</th>\n",
              "      <td>1406</td>\n",
              "      <td>The Information: A History, a Theory, a Flood</td>\n",
              "      <td>527</td>\n",
              "      <td>11.000000</td>\n",
              "    </tr>\n",
              "  </tbody>\n",
              "</table>\n",
              "</div>"
            ],
            "text/plain": [
              "   Reviews  ...      Price\n",
              "0     3829  ...   9.323529\n",
              "1     1406  ...  11.000000\n",
              "\n",
              "[2 rows x 4 columns]"
            ]
          },
          "metadata": {
            "tags": []
          },
          "execution_count": 19
        }
      ]
    },
    {
      "cell_type": "code",
      "metadata": {
        "colab": {
          "base_uri": "https://localhost:8080/"
        },
        "id": "0RYLcRjzKXg5",
        "outputId": "6dd9ff8d-6fb8-4d79-e62d-37a3a3025a93"
      },
      "source": [
        "df_livro[\"Price\"]"
      ],
      "execution_count": null,
      "outputs": [
        {
          "output_type": "execute_result",
          "data": {
            "text/plain": [
              "0        9.323529\n",
              "1       11.000000\n",
              "2       11.267647\n",
              "3       12.873529\n",
              "4       13.164706\n",
              "          ...    \n",
              "266    203.108823\n",
              "267    212.097059\n",
              "268    220.385294\n",
              "269    220.385294\n",
              "270    235.650000\n",
              "Name: Price, Length: 271, dtype: float64"
            ]
          },
          "metadata": {
            "tags": []
          },
          "execution_count": 20
        }
      ]
    },
    {
      "cell_type": "code",
      "metadata": {
        "colab": {
          "base_uri": "https://localhost:8080/",
          "height": 297
        },
        "id": "W3ukBCvOKgjq",
        "outputId": "180f4dc7-6c26-4afa-8d8e-40a277ceafb1"
      },
      "source": [
        "df_youtube.describe()"
      ],
      "execution_count": null,
      "outputs": [
        {
          "output_type": "execute_result",
          "data": {
            "text/html": [
              "<div>\n",
              "<style scoped>\n",
              "    .dataframe tbody tr th:only-of-type {\n",
              "        vertical-align: middle;\n",
              "    }\n",
              "\n",
              "    .dataframe tbody tr th {\n",
              "        vertical-align: top;\n",
              "    }\n",
              "\n",
              "    .dataframe thead th {\n",
              "        text-align: right;\n",
              "    }\n",
              "</style>\n",
              "<table border=\"1\" class=\"dataframe\">\n",
              "  <thead>\n",
              "    <tr style=\"text-align: right;\">\n",
              "      <th></th>\n",
              "      <th>views</th>\n",
              "      <th>likes</th>\n",
              "      <th>dislikes</th>\n",
              "      <th>comment_count</th>\n",
              "    </tr>\n",
              "  </thead>\n",
              "  <tbody>\n",
              "    <tr>\n",
              "      <th>count</th>\n",
              "      <td>2.931900e+04</td>\n",
              "      <td>2.931900e+04</td>\n",
              "      <td>2.931900e+04</td>\n",
              "      <td>2.931900e+04</td>\n",
              "    </tr>\n",
              "    <tr>\n",
              "      <th>mean</th>\n",
              "      <td>1.482102e+06</td>\n",
              "      <td>5.110715e+04</td>\n",
              "      <td>2.792433e+03</td>\n",
              "      <td>6.258848e+03</td>\n",
              "    </tr>\n",
              "    <tr>\n",
              "      <th>std</th>\n",
              "      <td>4.417280e+06</td>\n",
              "      <td>1.537791e+05</td>\n",
              "      <td>3.194887e+04</td>\n",
              "      <td>3.082987e+04</td>\n",
              "    </tr>\n",
              "    <tr>\n",
              "      <th>min</th>\n",
              "      <td>5.490000e+02</td>\n",
              "      <td>0.000000e+00</td>\n",
              "      <td>0.000000e+00</td>\n",
              "      <td>0.000000e+00</td>\n",
              "    </tr>\n",
              "    <tr>\n",
              "      <th>25%</th>\n",
              "      <td>1.604280e+05</td>\n",
              "      <td>3.449000e+03</td>\n",
              "      <td>1.390000e+02</td>\n",
              "      <td>4.305000e+02</td>\n",
              "    </tr>\n",
              "    <tr>\n",
              "      <th>50%</th>\n",
              "      <td>4.554520e+05</td>\n",
              "      <td>1.259700e+04</td>\n",
              "      <td>4.370000e+02</td>\n",
              "      <td>1.347000e+03</td>\n",
              "    </tr>\n",
              "    <tr>\n",
              "      <th>75%</th>\n",
              "      <td>1.267980e+06</td>\n",
              "      <td>3.750650e+04</td>\n",
              "      <td>1.381000e+03</td>\n",
              "      <td>4.023000e+03</td>\n",
              "    </tr>\n",
              "    <tr>\n",
              "      <th>max</th>\n",
              "      <td>1.493761e+08</td>\n",
              "      <td>3.093544e+06</td>\n",
              "      <td>1.674420e+06</td>\n",
              "      <td>1.361580e+06</td>\n",
              "    </tr>\n",
              "  </tbody>\n",
              "</table>\n",
              "</div>"
            ],
            "text/plain": [
              "              views         likes      dislikes  comment_count\n",
              "count  2.931900e+04  2.931900e+04  2.931900e+04   2.931900e+04\n",
              "mean   1.482102e+06  5.110715e+04  2.792433e+03   6.258848e+03\n",
              "std    4.417280e+06  1.537791e+05  3.194887e+04   3.082987e+04\n",
              "min    5.490000e+02  0.000000e+00  0.000000e+00   0.000000e+00\n",
              "25%    1.604280e+05  3.449000e+03  1.390000e+02   4.305000e+02\n",
              "50%    4.554520e+05  1.259700e+04  4.370000e+02   1.347000e+03\n",
              "75%    1.267980e+06  3.750650e+04  1.381000e+03   4.023000e+03\n",
              "max    1.493761e+08  3.093544e+06  1.674420e+06   1.361580e+06"
            ]
          },
          "metadata": {
            "tags": []
          },
          "execution_count": 21
        }
      ]
    },
    {
      "cell_type": "code",
      "metadata": {
        "colab": {
          "base_uri": "https://localhost:8080/",
          "height": 297
        },
        "id": "vQtQpvwLKocJ",
        "outputId": "f2f952e2-3d93-4e77-a143-0d2e4cc7c180"
      },
      "source": [
        "#fazendo análises exploratórias (códigos acima e abaixo)\r\n",
        "\r\n",
        "df_aluguel.describe()"
      ],
      "execution_count": null,
      "outputs": [
        {
          "output_type": "execute_result",
          "data": {
            "text/html": [
              "<div>\n",
              "<style scoped>\n",
              "    .dataframe tbody tr th:only-of-type {\n",
              "        vertical-align: middle;\n",
              "    }\n",
              "\n",
              "    .dataframe tbody tr th {\n",
              "        vertical-align: top;\n",
              "    }\n",
              "\n",
              "    .dataframe thead th {\n",
              "        text-align: right;\n",
              "    }\n",
              "</style>\n",
              "<table border=\"1\" class=\"dataframe\">\n",
              "  <thead>\n",
              "    <tr style=\"text-align: right;\">\n",
              "      <th></th>\n",
              "      <th>area</th>\n",
              "      <th>rooms</th>\n",
              "      <th>bathroom</th>\n",
              "      <th>parking spaces</th>\n",
              "      <th>floor</th>\n",
              "      <th>hoa</th>\n",
              "      <th>rent amount</th>\n",
              "      <th>property tax</th>\n",
              "      <th>fire insurance</th>\n",
              "      <th>total</th>\n",
              "    </tr>\n",
              "  </thead>\n",
              "  <tbody>\n",
              "    <tr>\n",
              "      <th>count</th>\n",
              "      <td>6080.000000</td>\n",
              "      <td>6080.000000</td>\n",
              "      <td>6080.000000</td>\n",
              "      <td>6080.000000</td>\n",
              "      <td>6080.000000</td>\n",
              "      <td>6080.000000</td>\n",
              "      <td>6080.000000</td>\n",
              "      <td>6080.000000</td>\n",
              "      <td>6080.000000</td>\n",
              "      <td>6080.000000</td>\n",
              "    </tr>\n",
              "    <tr>\n",
              "      <th>mean</th>\n",
              "      <td>151.143914</td>\n",
              "      <td>2.492599</td>\n",
              "      <td>2.341612</td>\n",
              "      <td>1.756250</td>\n",
              "      <td>5.672204</td>\n",
              "      <td>1088.426480</td>\n",
              "      <td>4395.844408</td>\n",
              "      <td>490.333388</td>\n",
              "      <td>58.204276</td>\n",
              "      <td>6033.194572</td>\n",
              "    </tr>\n",
              "    <tr>\n",
              "      <th>std</th>\n",
              "      <td>375.559485</td>\n",
              "      <td>1.129665</td>\n",
              "      <td>1.438860</td>\n",
              "      <td>1.611909</td>\n",
              "      <td>6.168918</td>\n",
              "      <td>3981.357627</td>\n",
              "      <td>3576.668946</td>\n",
              "      <td>6212.564538</td>\n",
              "      <td>49.313441</td>\n",
              "      <td>8751.347700</td>\n",
              "    </tr>\n",
              "    <tr>\n",
              "      <th>min</th>\n",
              "      <td>10.000000</td>\n",
              "      <td>1.000000</td>\n",
              "      <td>1.000000</td>\n",
              "      <td>0.000000</td>\n",
              "      <td>0.000000</td>\n",
              "      <td>0.000000</td>\n",
              "      <td>420.000000</td>\n",
              "      <td>0.000000</td>\n",
              "      <td>3.000000</td>\n",
              "      <td>660.000000</td>\n",
              "    </tr>\n",
              "    <tr>\n",
              "      <th>25%</th>\n",
              "      <td>58.000000</td>\n",
              "      <td>2.000000</td>\n",
              "      <td>1.000000</td>\n",
              "      <td>1.000000</td>\n",
              "      <td>0.000000</td>\n",
              "      <td>24.500000</td>\n",
              "      <td>1800.000000</td>\n",
              "      <td>33.000000</td>\n",
              "      <td>23.000000</td>\n",
              "      <td>2451.500000</td>\n",
              "    </tr>\n",
              "    <tr>\n",
              "      <th>50%</th>\n",
              "      <td>100.000000</td>\n",
              "      <td>3.000000</td>\n",
              "      <td>2.000000</td>\n",
              "      <td>1.000000</td>\n",
              "      <td>4.000000</td>\n",
              "      <td>650.000000</td>\n",
              "      <td>3111.000000</td>\n",
              "      <td>145.000000</td>\n",
              "      <td>41.000000</td>\n",
              "      <td>4128.500000</td>\n",
              "    </tr>\n",
              "    <tr>\n",
              "      <th>75%</th>\n",
              "      <td>200.000000</td>\n",
              "      <td>3.000000</td>\n",
              "      <td>3.000000</td>\n",
              "      <td>2.000000</td>\n",
              "      <td>9.000000</td>\n",
              "      <td>1436.000000</td>\n",
              "      <td>5952.500000</td>\n",
              "      <td>458.000000</td>\n",
              "      <td>77.000000</td>\n",
              "      <td>8074.000000</td>\n",
              "    </tr>\n",
              "    <tr>\n",
              "      <th>max</th>\n",
              "      <td>24606.000000</td>\n",
              "      <td>10.000000</td>\n",
              "      <td>10.000000</td>\n",
              "      <td>12.000000</td>\n",
              "      <td>99.000000</td>\n",
              "      <td>220000.000000</td>\n",
              "      <td>45000.000000</td>\n",
              "      <td>366300.000000</td>\n",
              "      <td>677.000000</td>\n",
              "      <td>372700.000000</td>\n",
              "    </tr>\n",
              "  </tbody>\n",
              "</table>\n",
              "</div>"
            ],
            "text/plain": [
              "               area        rooms  ...  fire insurance          total\n",
              "count   6080.000000  6080.000000  ...     6080.000000    6080.000000\n",
              "mean     151.143914     2.492599  ...       58.204276    6033.194572\n",
              "std      375.559485     1.129665  ...       49.313441    8751.347700\n",
              "min       10.000000     1.000000  ...        3.000000     660.000000\n",
              "25%       58.000000     2.000000  ...       23.000000    2451.500000\n",
              "50%      100.000000     3.000000  ...       41.000000    4128.500000\n",
              "75%      200.000000     3.000000  ...       77.000000    8074.000000\n",
              "max    24606.000000    10.000000  ...      677.000000  372700.000000\n",
              "\n",
              "[8 rows x 10 columns]"
            ]
          },
          "metadata": {
            "tags": []
          },
          "execution_count": 22
        }
      ]
    },
    {
      "cell_type": "code",
      "metadata": {
        "colab": {
          "base_uri": "https://localhost:8080/"
        },
        "id": "iRZydu0IK6j6",
        "outputId": "fedee206-c6da-472f-be09-ecad48a7d944"
      },
      "source": [
        "df_ec1[\"payment_value\"]"
      ],
      "execution_count": null,
      "outputs": [
        {
          "output_type": "execute_result",
          "data": {
            "text/plain": [
              "0          99.33\n",
              "1          24.39\n",
              "2          65.71\n",
              "3         107.78\n",
              "4         128.45\n",
              "           ...  \n",
              "103881    363.31\n",
              "103882     96.80\n",
              "103883     47.77\n",
              "103884    369.54\n",
              "103885    191.58\n",
              "Name: payment_value, Length: 103886, dtype: float64"
            ]
          },
          "metadata": {
            "tags": []
          },
          "execution_count": 23
        }
      ]
    },
    {
      "cell_type": "code",
      "metadata": {
        "colab": {
          "base_uri": "https://localhost:8080/",
          "height": 439
        },
        "id": "sRX-zXa_LnOj",
        "outputId": "f4518716-adaa-44cc-a7b4-41858d2746c3"
      },
      "source": [
        "df_ec2"
      ],
      "execution_count": null,
      "outputs": [
        {
          "output_type": "execute_result",
          "data": {
            "text/html": [
              "<div>\n",
              "<style scoped>\n",
              "    .dataframe tbody tr th:only-of-type {\n",
              "        vertical-align: middle;\n",
              "    }\n",
              "\n",
              "    .dataframe tbody tr th {\n",
              "        vertical-align: top;\n",
              "    }\n",
              "\n",
              "    .dataframe thead th {\n",
              "        text-align: right;\n",
              "    }\n",
              "</style>\n",
              "<table border=\"1\" class=\"dataframe\">\n",
              "  <thead>\n",
              "    <tr style=\"text-align: right;\">\n",
              "      <th></th>\n",
              "      <th>product_category_name</th>\n",
              "      <th>product_name_lenght</th>\n",
              "      <th>product_description_lenght</th>\n",
              "      <th>product_photos_qty</th>\n",
              "      <th>product_weight_g</th>\n",
              "      <th>product_length_cm</th>\n",
              "      <th>product_height_cm</th>\n",
              "      <th>product_width_cm</th>\n",
              "    </tr>\n",
              "  </thead>\n",
              "  <tbody>\n",
              "    <tr>\n",
              "      <th>0</th>\n",
              "      <td>perfumaria</td>\n",
              "      <td>40.0</td>\n",
              "      <td>287.0</td>\n",
              "      <td>1.0</td>\n",
              "      <td>225.0</td>\n",
              "      <td>16.0</td>\n",
              "      <td>10.0</td>\n",
              "      <td>14.0</td>\n",
              "    </tr>\n",
              "    <tr>\n",
              "      <th>1</th>\n",
              "      <td>artes</td>\n",
              "      <td>44.0</td>\n",
              "      <td>276.0</td>\n",
              "      <td>1.0</td>\n",
              "      <td>1000.0</td>\n",
              "      <td>30.0</td>\n",
              "      <td>18.0</td>\n",
              "      <td>20.0</td>\n",
              "    </tr>\n",
              "    <tr>\n",
              "      <th>2</th>\n",
              "      <td>esporte_lazer</td>\n",
              "      <td>46.0</td>\n",
              "      <td>250.0</td>\n",
              "      <td>1.0</td>\n",
              "      <td>154.0</td>\n",
              "      <td>18.0</td>\n",
              "      <td>9.0</td>\n",
              "      <td>15.0</td>\n",
              "    </tr>\n",
              "    <tr>\n",
              "      <th>3</th>\n",
              "      <td>bebes</td>\n",
              "      <td>27.0</td>\n",
              "      <td>261.0</td>\n",
              "      <td>1.0</td>\n",
              "      <td>371.0</td>\n",
              "      <td>26.0</td>\n",
              "      <td>4.0</td>\n",
              "      <td>26.0</td>\n",
              "    </tr>\n",
              "    <tr>\n",
              "      <th>4</th>\n",
              "      <td>utilidades_domesticas</td>\n",
              "      <td>37.0</td>\n",
              "      <td>402.0</td>\n",
              "      <td>4.0</td>\n",
              "      <td>625.0</td>\n",
              "      <td>20.0</td>\n",
              "      <td>17.0</td>\n",
              "      <td>13.0</td>\n",
              "    </tr>\n",
              "    <tr>\n",
              "      <th>...</th>\n",
              "      <td>...</td>\n",
              "      <td>...</td>\n",
              "      <td>...</td>\n",
              "      <td>...</td>\n",
              "      <td>...</td>\n",
              "      <td>...</td>\n",
              "      <td>...</td>\n",
              "      <td>...</td>\n",
              "    </tr>\n",
              "    <tr>\n",
              "      <th>32946</th>\n",
              "      <td>moveis_decoracao</td>\n",
              "      <td>45.0</td>\n",
              "      <td>67.0</td>\n",
              "      <td>2.0</td>\n",
              "      <td>12300.0</td>\n",
              "      <td>40.0</td>\n",
              "      <td>40.0</td>\n",
              "      <td>40.0</td>\n",
              "    </tr>\n",
              "    <tr>\n",
              "      <th>32947</th>\n",
              "      <td>construcao_ferramentas_iluminacao</td>\n",
              "      <td>41.0</td>\n",
              "      <td>971.0</td>\n",
              "      <td>1.0</td>\n",
              "      <td>1700.0</td>\n",
              "      <td>16.0</td>\n",
              "      <td>19.0</td>\n",
              "      <td>16.0</td>\n",
              "    </tr>\n",
              "    <tr>\n",
              "      <th>32948</th>\n",
              "      <td>cama_mesa_banho</td>\n",
              "      <td>50.0</td>\n",
              "      <td>799.0</td>\n",
              "      <td>1.0</td>\n",
              "      <td>1400.0</td>\n",
              "      <td>27.0</td>\n",
              "      <td>7.0</td>\n",
              "      <td>27.0</td>\n",
              "    </tr>\n",
              "    <tr>\n",
              "      <th>32949</th>\n",
              "      <td>informatica_acessorios</td>\n",
              "      <td>60.0</td>\n",
              "      <td>156.0</td>\n",
              "      <td>2.0</td>\n",
              "      <td>700.0</td>\n",
              "      <td>31.0</td>\n",
              "      <td>13.0</td>\n",
              "      <td>20.0</td>\n",
              "    </tr>\n",
              "    <tr>\n",
              "      <th>32950</th>\n",
              "      <td>cama_mesa_banho</td>\n",
              "      <td>58.0</td>\n",
              "      <td>309.0</td>\n",
              "      <td>1.0</td>\n",
              "      <td>2083.0</td>\n",
              "      <td>12.0</td>\n",
              "      <td>2.0</td>\n",
              "      <td>7.0</td>\n",
              "    </tr>\n",
              "  </tbody>\n",
              "</table>\n",
              "<p>32951 rows × 8 columns</p>\n",
              "</div>"
            ],
            "text/plain": [
              "                   product_category_name  ...  product_width_cm\n",
              "0                             perfumaria  ...              14.0\n",
              "1                                  artes  ...              20.0\n",
              "2                          esporte_lazer  ...              15.0\n",
              "3                                  bebes  ...              26.0\n",
              "4                  utilidades_domesticas  ...              13.0\n",
              "...                                  ...  ...               ...\n",
              "32946                   moveis_decoracao  ...              40.0\n",
              "32947  construcao_ferramentas_iluminacao  ...              16.0\n",
              "32948                    cama_mesa_banho  ...              27.0\n",
              "32949             informatica_acessorios  ...              20.0\n",
              "32950                    cama_mesa_banho  ...               7.0\n",
              "\n",
              "[32951 rows x 8 columns]"
            ]
          },
          "metadata": {
            "tags": []
          },
          "execution_count": 26
        }
      ]
    },
    {
      "cell_type": "code",
      "metadata": {
        "colab": {
          "base_uri": "https://localhost:8080/",
          "height": 297
        },
        "id": "Xgj8vSh1LrtZ",
        "outputId": "85323b62-b474-4579-eb88-01d583ee7058"
      },
      "source": [
        "df_youtube.describe()"
      ],
      "execution_count": null,
      "outputs": [
        {
          "output_type": "execute_result",
          "data": {
            "text/html": [
              "<div>\n",
              "<style scoped>\n",
              "    .dataframe tbody tr th:only-of-type {\n",
              "        vertical-align: middle;\n",
              "    }\n",
              "\n",
              "    .dataframe tbody tr th {\n",
              "        vertical-align: top;\n",
              "    }\n",
              "\n",
              "    .dataframe thead th {\n",
              "        text-align: right;\n",
              "    }\n",
              "</style>\n",
              "<table border=\"1\" class=\"dataframe\">\n",
              "  <thead>\n",
              "    <tr style=\"text-align: right;\">\n",
              "      <th></th>\n",
              "      <th>views</th>\n",
              "      <th>likes</th>\n",
              "      <th>dislikes</th>\n",
              "      <th>comment_count</th>\n",
              "    </tr>\n",
              "  </thead>\n",
              "  <tbody>\n",
              "    <tr>\n",
              "      <th>count</th>\n",
              "      <td>2.931900e+04</td>\n",
              "      <td>2.931900e+04</td>\n",
              "      <td>2.931900e+04</td>\n",
              "      <td>2.931900e+04</td>\n",
              "    </tr>\n",
              "    <tr>\n",
              "      <th>mean</th>\n",
              "      <td>1.482102e+06</td>\n",
              "      <td>5.110715e+04</td>\n",
              "      <td>2.792433e+03</td>\n",
              "      <td>6.258848e+03</td>\n",
              "    </tr>\n",
              "    <tr>\n",
              "      <th>std</th>\n",
              "      <td>4.417280e+06</td>\n",
              "      <td>1.537791e+05</td>\n",
              "      <td>3.194887e+04</td>\n",
              "      <td>3.082987e+04</td>\n",
              "    </tr>\n",
              "    <tr>\n",
              "      <th>min</th>\n",
              "      <td>5.490000e+02</td>\n",
              "      <td>0.000000e+00</td>\n",
              "      <td>0.000000e+00</td>\n",
              "      <td>0.000000e+00</td>\n",
              "    </tr>\n",
              "    <tr>\n",
              "      <th>25%</th>\n",
              "      <td>1.604280e+05</td>\n",
              "      <td>3.449000e+03</td>\n",
              "      <td>1.390000e+02</td>\n",
              "      <td>4.305000e+02</td>\n",
              "    </tr>\n",
              "    <tr>\n",
              "      <th>50%</th>\n",
              "      <td>4.554520e+05</td>\n",
              "      <td>1.259700e+04</td>\n",
              "      <td>4.370000e+02</td>\n",
              "      <td>1.347000e+03</td>\n",
              "    </tr>\n",
              "    <tr>\n",
              "      <th>75%</th>\n",
              "      <td>1.267980e+06</td>\n",
              "      <td>3.750650e+04</td>\n",
              "      <td>1.381000e+03</td>\n",
              "      <td>4.023000e+03</td>\n",
              "    </tr>\n",
              "    <tr>\n",
              "      <th>max</th>\n",
              "      <td>1.493761e+08</td>\n",
              "      <td>3.093544e+06</td>\n",
              "      <td>1.674420e+06</td>\n",
              "      <td>1.361580e+06</td>\n",
              "    </tr>\n",
              "  </tbody>\n",
              "</table>\n",
              "</div>"
            ],
            "text/plain": [
              "              views         likes      dislikes  comment_count\n",
              "count  2.931900e+04  2.931900e+04  2.931900e+04   2.931900e+04\n",
              "mean   1.482102e+06  5.110715e+04  2.792433e+03   6.258848e+03\n",
              "std    4.417280e+06  1.537791e+05  3.194887e+04   3.082987e+04\n",
              "min    5.490000e+02  0.000000e+00  0.000000e+00   0.000000e+00\n",
              "25%    1.604280e+05  3.449000e+03  1.390000e+02   4.305000e+02\n",
              "50%    4.554520e+05  1.259700e+04  4.370000e+02   1.347000e+03\n",
              "75%    1.267980e+06  3.750650e+04  1.381000e+03   4.023000e+03\n",
              "max    1.493761e+08  3.093544e+06  1.674420e+06   1.361580e+06"
            ]
          },
          "metadata": {
            "tags": []
          },
          "execution_count": 27
        }
      ]
    },
    {
      "cell_type": "code",
      "metadata": {
        "id": "GSpxDBg1RG48"
      },
      "source": [
        "#LEI DE BENFORD\r\n",
        "#Análise Estatística\r\n",
        "#Indicar de possivel: fraude, ordens de regras especificas, cenarios especificos, descaso, falta de conhecimento\r\n"
      ],
      "execution_count": null,
      "outputs": []
    },
    {
      "cell_type": "code",
      "metadata": {
        "id": "7FkjkeSySdOg"
      },
      "source": [
        "import math"
      ],
      "execution_count": null,
      "outputs": []
    },
    {
      "cell_type": "code",
      "metadata": {
        "colab": {
          "base_uri": "https://localhost:8080/"
        },
        "id": "g0frTLOgShuP",
        "outputId": "bb2623d8-1395-48c6-9c0a-9ac4baae3063"
      },
      "source": [
        "\r\n",
        "for digito in range(1,10):\r\n",
        "  print(digito)"
      ],
      "execution_count": null,
      "outputs": [
        {
          "output_type": "stream",
          "text": [
            "1\n",
            "2\n",
            "3\n",
            "4\n",
            "5\n",
            "6\n",
            "7\n",
            "8\n",
            "9\n"
          ],
          "name": "stdout"
        }
      ]
    },
    {
      "cell_type": "code",
      "metadata": {
        "colab": {
          "base_uri": "https://localhost:8080/"
        },
        "id": "O95CUhilWSh4",
        "outputId": "d8256ef4-b9e3-453f-a112-56b1583a4ee5"
      },
      "source": [
        "for digito in range(1,10):\r\n",
        "  print(math.log10(1 + 1/digito))"
      ],
      "execution_count": null,
      "outputs": [
        {
          "output_type": "stream",
          "text": [
            "0.3010299956639812\n",
            "0.17609125905568124\n",
            "0.12493873660829992\n",
            "0.09691001300805642\n",
            "0.07918124604762482\n",
            "0.06694678963061322\n",
            "0.05799194697768673\n",
            "0.05115252244738129\n",
            "0.04575749056067514\n"
          ],
          "name": "stdout"
        }
      ]
    },
    {
      "cell_type": "code",
      "metadata": {
        "colab": {
          "base_uri": "https://localhost:8080/"
        },
        "id": "0lYvmcedWhCy",
        "outputId": "81be9075-20a0-4652-8ff4-539b9e1f3a5a"
      },
      "source": [
        "#list comprehension - for dentro da lista\r\n",
        "\r\n",
        "lista_benford = [math.log10( 1 + 1/digito) for digito in range(1,10)]\r\n",
        "lista_benford"
      ],
      "execution_count": null,
      "outputs": [
        {
          "output_type": "execute_result",
          "data": {
            "text/plain": [
              "[0.3010299956639812,\n",
              " 0.17609125905568124,\n",
              " 0.12493873660829992,\n",
              " 0.09691001300805642,\n",
              " 0.07918124604762482,\n",
              " 0.06694678963061322,\n",
              " 0.05799194697768673,\n",
              " 0.05115252244738129,\n",
              " 0.04575749056067514]"
            ]
          },
          "metadata": {
            "tags": []
          },
          "execution_count": 33
        }
      ]
    },
    {
      "cell_type": "code",
      "metadata": {
        "colab": {
          "base_uri": "https://localhost:8080/",
          "height": 35
        },
        "id": "LpAojnQdWvVk",
        "outputId": "36f10b7b-723c-4d22-9b88-3f40c56d660a"
      },
      "source": [
        "def primeiro_digito(numero):\r\n",
        "  return str(numero)[0]\r\n",
        "\r\n",
        "primeiro_digito(50)"
      ],
      "execution_count": null,
      "outputs": [
        {
          "output_type": "execute_result",
          "data": {
            "application/vnd.google.colaboratory.intrinsic+json": {
              "type": "string"
            },
            "text/plain": [
              "'5'"
            ]
          },
          "metadata": {
            "tags": []
          },
          "execution_count": 35
        }
      ]
    },
    {
      "cell_type": "code",
      "metadata": {
        "colab": {
          "base_uri": "https://localhost:8080/"
        },
        "id": "f0qePps6W3vN",
        "outputId": "fdfb14f7-c3b0-4908-d9e2-ae29cd9543d0"
      },
      "source": [
        "df_livro[\"Number_Of_Pages\"].apply(primeiro_digito)"
      ],
      "execution_count": null,
      "outputs": [
        {
          "output_type": "execute_result",
          "data": {
            "text/plain": [
              "0      1\n",
              "1      5\n",
              "2      5\n",
              "3      3\n",
              "4      3\n",
              "      ..\n",
              "266    7\n",
              "267    1\n",
              "268    8\n",
              "269    3\n",
              "270    7\n",
              "Name: Number_Of_Pages, Length: 271, dtype: object"
            ]
          },
          "metadata": {
            "tags": []
          },
          "execution_count": 37
        }
      ]
    },
    {
      "cell_type": "code",
      "metadata": {
        "id": "4AkXxmUwX8ON"
      },
      "source": [
        "def freq_coluna(coluna):\r\n",
        "  df_primeiro_digito = coluna.apply(primeiro_digito)\r\n",
        "  df_primeiro_digito = df_primeiro_digito.value_counts(normalize = True)\r\n",
        "  return df_primeiro_digito.sort_index()"
      ],
      "execution_count": null,
      "outputs": []
    },
    {
      "cell_type": "code",
      "metadata": {
        "colab": {
          "base_uri": "https://localhost:8080/"
        },
        "id": "FFvMgDcsYWi4",
        "outputId": "9d0c11df-3cd1-4707-ec48-69f370d34336"
      },
      "source": [
        "freq_coluna(df_livro[\"Number_Of_Pages\"])"
      ],
      "execution_count": null,
      "outputs": [
        {
          "output_type": "execute_result",
          "data": {
            "text/plain": [
              "1    0.132841\n",
              "2    0.180812\n",
              "3    0.284133\n",
              "4    0.136531\n",
              "5    0.092251\n",
              "6    0.051661\n",
              "7    0.051661\n",
              "8    0.033210\n",
              "9    0.036900\n",
              "Name: Number_Of_Pages, dtype: float64"
            ]
          },
          "metadata": {
            "tags": []
          },
          "execution_count": 45
        }
      ]
    },
    {
      "cell_type": "code",
      "metadata": {
        "colab": {
          "base_uri": "https://localhost:8080/",
          "height": 573
        },
        "id": "qhODHeg1Yn8T",
        "outputId": "cf24f6d2-2a60-4236-962b-cf026ea4d219"
      },
      "source": [
        "def benford(coluna):\r\n",
        "  df_comparacao = pd.DataFrame(index = [str(i) for i in range(1,10)])\r\n",
        "  #Esperado pelo Benford\r\n",
        "  df_comparacao[\"Benford\"] = lista_benford\r\n",
        "  df_comparacao[\"Real\"] = freq_coluna(coluna)\r\n",
        "  df_comparacao.plot.bar()\r\n",
        "  return df_comparacao\r\n",
        "\r\n",
        "benford(df_livro[\"Number_Of_Pages\"])"
      ],
      "execution_count": null,
      "outputs": [
        {
          "output_type": "execute_result",
          "data": {
            "text/html": [
              "<div>\n",
              "<style scoped>\n",
              "    .dataframe tbody tr th:only-of-type {\n",
              "        vertical-align: middle;\n",
              "    }\n",
              "\n",
              "    .dataframe tbody tr th {\n",
              "        vertical-align: top;\n",
              "    }\n",
              "\n",
              "    .dataframe thead th {\n",
              "        text-align: right;\n",
              "    }\n",
              "</style>\n",
              "<table border=\"1\" class=\"dataframe\">\n",
              "  <thead>\n",
              "    <tr style=\"text-align: right;\">\n",
              "      <th></th>\n",
              "      <th>Benford</th>\n",
              "      <th>Real</th>\n",
              "    </tr>\n",
              "  </thead>\n",
              "  <tbody>\n",
              "    <tr>\n",
              "      <th>1</th>\n",
              "      <td>0.301030</td>\n",
              "      <td>0.132841</td>\n",
              "    </tr>\n",
              "    <tr>\n",
              "      <th>2</th>\n",
              "      <td>0.176091</td>\n",
              "      <td>0.180812</td>\n",
              "    </tr>\n",
              "    <tr>\n",
              "      <th>3</th>\n",
              "      <td>0.124939</td>\n",
              "      <td>0.284133</td>\n",
              "    </tr>\n",
              "    <tr>\n",
              "      <th>4</th>\n",
              "      <td>0.096910</td>\n",
              "      <td>0.136531</td>\n",
              "    </tr>\n",
              "    <tr>\n",
              "      <th>5</th>\n",
              "      <td>0.079181</td>\n",
              "      <td>0.092251</td>\n",
              "    </tr>\n",
              "    <tr>\n",
              "      <th>6</th>\n",
              "      <td>0.066947</td>\n",
              "      <td>0.051661</td>\n",
              "    </tr>\n",
              "    <tr>\n",
              "      <th>7</th>\n",
              "      <td>0.057992</td>\n",
              "      <td>0.051661</td>\n",
              "    </tr>\n",
              "    <tr>\n",
              "      <th>8</th>\n",
              "      <td>0.051153</td>\n",
              "      <td>0.033210</td>\n",
              "    </tr>\n",
              "    <tr>\n",
              "      <th>9</th>\n",
              "      <td>0.045757</td>\n",
              "      <td>0.036900</td>\n",
              "    </tr>\n",
              "  </tbody>\n",
              "</table>\n",
              "</div>"
            ],
            "text/plain": [
              "    Benford      Real\n",
              "1  0.301030  0.132841\n",
              "2  0.176091  0.180812\n",
              "3  0.124939  0.284133\n",
              "4  0.096910  0.136531\n",
              "5  0.079181  0.092251\n",
              "6  0.066947  0.051661\n",
              "7  0.057992  0.051661\n",
              "8  0.051153  0.033210\n",
              "9  0.045757  0.036900"
            ]
          },
          "metadata": {
            "tags": []
          },
          "execution_count": 50
        },
        {
          "output_type": "display_data",
          "data": {
            "image/png": "[encoded data removed]",
            "text/plain": [
              "<Figure size 432x288 with 1 Axes>"
            ]
          },
          "metadata": {
            "tags": [],
            "needs_background": "light"
          }
        }
      ]
    },
    {
      "cell_type": "code",
      "metadata": {
        "colab": {
          "base_uri": "https://localhost:8080/"
        },
        "id": "2yrYfR3BZULK",
        "outputId": "f7862486-87a8-415b-976c-22a3a08abb15"
      },
      "source": [
        "df_ec1.columns"
      ],
      "execution_count": null,
      "outputs": [
        {
          "output_type": "execute_result",
          "data": {
            "text/plain": [
              "Index(['payment_type', 'payment_installments', 'payment_value'], dtype='object')"
            ]
          },
          "metadata": {
            "tags": []
          },
          "execution_count": 51
        }
      ]
    },
    {
      "cell_type": "code",
      "metadata": {
        "colab": {
          "base_uri": "https://localhost:8080/",
          "height": 573
        },
        "id": "oEpoY0Q7X8q8",
        "outputId": "78f462d1-69d8-4d98-b417-20561507c5e6"
      },
      "source": [
        "benford(df_ec1[\"payment_value\"])"
      ],
      "execution_count": null,
      "outputs": [
        {
          "output_type": "execute_result",
          "data": {
            "text/html": [
              "<div>\n",
              "<style scoped>\n",
              "    .dataframe tbody tr th:only-of-type {\n",
              "        vertical-align: middle;\n",
              "    }\n",
              "\n",
              "    .dataframe tbody tr th {\n",
              "        vertical-align: top;\n",
              "    }\n",
              "\n",
              "    .dataframe thead th {\n",
              "        text-align: right;\n",
              "    }\n",
              "</style>\n",
              "<table border=\"1\" class=\"dataframe\">\n",
              "  <thead>\n",
              "    <tr style=\"text-align: right;\">\n",
              "      <th></th>\n",
              "      <th>Benford</th>\n",
              "      <th>Real</th>\n",
              "    </tr>\n",
              "  </thead>\n",
              "  <tbody>\n",
              "    <tr>\n",
              "      <th>1</th>\n",
              "      <td>0.301030</td>\n",
              "      <td>0.331931</td>\n",
              "    </tr>\n",
              "    <tr>\n",
              "      <th>2</th>\n",
              "      <td>0.176091</td>\n",
              "      <td>0.138671</td>\n",
              "    </tr>\n",
              "    <tr>\n",
              "      <th>3</th>\n",
              "      <td>0.124939</td>\n",
              "      <td>0.107724</td>\n",
              "    </tr>\n",
              "    <tr>\n",
              "      <th>4</th>\n",
              "      <td>0.096910</td>\n",
              "      <td>0.086970</td>\n",
              "    </tr>\n",
              "    <tr>\n",
              "      <th>5</th>\n",
              "      <td>0.079181</td>\n",
              "      <td>0.079087</td>\n",
              "    </tr>\n",
              "    <tr>\n",
              "      <th>6</th>\n",
              "      <td>0.066947</td>\n",
              "      <td>0.079144</td>\n",
              "    </tr>\n",
              "    <tr>\n",
              "      <th>7</th>\n",
              "      <td>0.057992</td>\n",
              "      <td>0.066342</td>\n",
              "    </tr>\n",
              "    <tr>\n",
              "      <th>8</th>\n",
              "      <td>0.051153</td>\n",
              "      <td>0.057842</td>\n",
              "    </tr>\n",
              "    <tr>\n",
              "      <th>9</th>\n",
              "      <td>0.045757</td>\n",
              "      <td>0.050690</td>\n",
              "    </tr>\n",
              "  </tbody>\n",
              "</table>\n",
              "</div>"
            ],
            "text/plain": [
              "    Benford      Real\n",
              "1  0.301030  0.331931\n",
              "2  0.176091  0.138671\n",
              "3  0.124939  0.107724\n",
              "4  0.096910  0.086970\n",
              "5  0.079181  0.079087\n",
              "6  0.066947  0.079144\n",
              "7  0.057992  0.066342\n",
              "8  0.051153  0.057842\n",
              "9  0.045757  0.050690"
            ]
          },
          "metadata": {
            "tags": []
          },
          "execution_count": 52
        },
        {
          "output_type": "display_data",
          "data": {
            "image/png": "[encoded data removed]",
            "text/plain": [
              "<Figure size 432x288 with 1 Axes>"
            ]
          },
          "metadata": {
            "tags": [],
            "needs_background": "light"
          }
        }
      ]
    },
    {
      "cell_type": "code",
      "metadata": {
        "id": "ckTNVSuOXjVW"
      },
      "source": [
        "#ok"
      ],
      "execution_count": null,
      "outputs": []
    }
  ]
}